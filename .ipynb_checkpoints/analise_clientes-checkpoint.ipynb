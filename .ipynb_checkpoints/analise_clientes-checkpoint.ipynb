{
 "cells": [
  {
   "cell_type": "markdown",
   "metadata": {},
   "source": [
    "# Case técnico Jeitto\n",
    "\n",
    "Este notebook contem análises de uma base de dados sobre clientes e suas compras. Para guia este estudo iremos levantar as seguintes questões a respeito dos clientes:\n",
    "- Na primeira compra os clientes tendem a comprar qual produto?\n",
    "- Qual a distribuição dos clientes por estado?\n",
    "- Qual a distribuição dos clientes por faixas etárias?\n",
    "- Qual o ticket medio dos clientes?\n",
    "- Qual o produto mais vendido por regiao do país (sul, sudeste, norte, nordeste, centro-oeste) ?\n",
    "- Quantos clientes fantasmas (nunca compraram nada) existem na base?\n"
   ]
  },
  {
   "cell_type": "code",
   "execution_count": 1,
   "metadata": {},
   "outputs": [],
   "source": [
    "import pandas as pd\n",
    "import numpy as np\n",
    "import matplotlib.pyplot as plt\n",
    "import seaborn as sns\n",
    "\n",
    "%matplotlib inline\n",
    "from IPython.core.interactiveshell import InteractiveShell\n",
    "InteractiveShell.ast_node_interactivity = \"all\"\n",
    "plt.style.use('ggplot')"
   ]
  },
  {
   "cell_type": "code",
   "execution_count": 2,
   "metadata": {},
   "outputs": [],
   "source": [
    "dfRaw = pd.read_csv(\"base_clientes.csv\", sep=\";\")"
   ]
  },
  {
   "cell_type": "code",
   "execution_count": 3,
   "metadata": {},
   "outputs": [
    {
     "data": {
      "text/html": [
       "<div>\n",
       "<style scoped>\n",
       "    .dataframe tbody tr th:only-of-type {\n",
       "        vertical-align: middle;\n",
       "    }\n",
       "\n",
       "    .dataframe tbody tr th {\n",
       "        vertical-align: top;\n",
       "    }\n",
       "\n",
       "    .dataframe thead th {\n",
       "        text-align: right;\n",
       "    }\n",
       "</style>\n",
       "<table border=\"1\" class=\"dataframe\">\n",
       "  <thead>\n",
       "    <tr style=\"text-align: right;\">\n",
       "      <th></th>\n",
       "      <th>id_cliente</th>\n",
       "      <th>age</th>\n",
       "      <th>state</th>\n",
       "      <th>first_purchased_product</th>\n",
       "      <th>product_b_total_qty</th>\n",
       "      <th>product_c_total_qty</th>\n",
       "      <th>product_a_total_qty</th>\n",
       "      <th>product_b_total_value</th>\n",
       "      <th>product_c_total_value</th>\n",
       "      <th>product_a_total_value</th>\n",
       "    </tr>\n",
       "  </thead>\n",
       "  <tbody>\n",
       "    <tr>\n",
       "      <th>0</th>\n",
       "      <td>1547896</td>\n",
       "      <td>55</td>\n",
       "      <td>MT</td>\n",
       "      <td>NaN</td>\n",
       "      <td>NaN</td>\n",
       "      <td>NaN</td>\n",
       "      <td>NaN</td>\n",
       "      <td>NaN</td>\n",
       "      <td>NaN</td>\n",
       "      <td>NaN</td>\n",
       "    </tr>\n",
       "    <tr>\n",
       "      <th>1</th>\n",
       "      <td>1547897</td>\n",
       "      <td>28</td>\n",
       "      <td>AL</td>\n",
       "      <td>a</td>\n",
       "      <td>NaN</td>\n",
       "      <td>NaN</td>\n",
       "      <td>9.0</td>\n",
       "      <td>NaN</td>\n",
       "      <td>NaN</td>\n",
       "      <td>144</td>\n",
       "    </tr>\n",
       "    <tr>\n",
       "      <th>2</th>\n",
       "      <td>1547898</td>\n",
       "      <td>45</td>\n",
       "      <td>SE</td>\n",
       "      <td>a</td>\n",
       "      <td>8.0</td>\n",
       "      <td>3.0</td>\n",
       "      <td>1.0</td>\n",
       "      <td>203.0</td>\n",
       "      <td>333,18</td>\n",
       "      <td>20</td>\n",
       "    </tr>\n",
       "    <tr>\n",
       "      <th>3</th>\n",
       "      <td>1547899</td>\n",
       "      <td>47</td>\n",
       "      <td>PE</td>\n",
       "      <td>a</td>\n",
       "      <td>4.0</td>\n",
       "      <td>NaN</td>\n",
       "      <td>5.0</td>\n",
       "      <td>136.0</td>\n",
       "      <td>NaN</td>\n",
       "      <td>7</td>\n",
       "    </tr>\n",
       "    <tr>\n",
       "      <th>4</th>\n",
       "      <td>1547900</td>\n",
       "      <td>32</td>\n",
       "      <td>SP</td>\n",
       "      <td>b</td>\n",
       "      <td>9.0</td>\n",
       "      <td>12.0</td>\n",
       "      <td>NaN</td>\n",
       "      <td>8.0</td>\n",
       "      <td>0</td>\n",
       "      <td>NaN</td>\n",
       "    </tr>\n",
       "  </tbody>\n",
       "</table>\n",
       "</div>"
      ],
      "text/plain": [
       "   id_cliente  age state first_purchased_product  product_b_total_qty  \\\n",
       "0     1547896   55    MT                     NaN                  NaN   \n",
       "1     1547897   28    AL                       a                  NaN   \n",
       "2     1547898   45    SE                       a                  8.0   \n",
       "3     1547899   47    PE                       a                  4.0   \n",
       "4     1547900   32    SP                       b                  9.0   \n",
       "\n",
       "   product_c_total_qty  product_a_total_qty  product_b_total_value  \\\n",
       "0                  NaN                  NaN                    NaN   \n",
       "1                  NaN                  9.0                    NaN   \n",
       "2                  3.0                  1.0                  203.0   \n",
       "3                  NaN                  5.0                  136.0   \n",
       "4                 12.0                  NaN                    8.0   \n",
       "\n",
       "  product_c_total_value product_a_total_value  \n",
       "0                   NaN                   NaN  \n",
       "1                   NaN                   144  \n",
       "2                333,18                    20  \n",
       "3                   NaN                     7  \n",
       "4                     0                   NaN  "
      ]
     },
     "execution_count": 3,
     "metadata": {},
     "output_type": "execute_result"
    }
   ],
   "source": [
    "dfRaw.head()"
   ]
  },
  {
   "cell_type": "markdown",
   "metadata": {},
   "source": [
    "## Análise dos dados\n",
    "\n",
    "Olhando para as 5 primeiras linhas da base podemos ver que os campos vazios foram interpretados como NaN. Vamos analisar quantos NaN existe em cada coluna da base."
   ]
  },
  {
   "cell_type": "code",
   "execution_count": 4,
   "metadata": {},
   "outputs": [
    {
     "name": "stdout",
     "output_type": "stream",
     "text": [
      "<class 'pandas.core.frame.DataFrame'>\n",
      "RangeIndex: 9974 entries, 0 to 9973\n",
      "Data columns (total 10 columns):\n",
      "id_cliente                 9974 non-null int64\n",
      "age                        9974 non-null int64\n",
      "state                      9962 non-null object\n",
      "first_purchased_product    6001 non-null object\n",
      "product_b_total_qty        4863 non-null float64\n",
      "product_c_total_qty        3107 non-null float64\n",
      "product_a_total_qty        1457 non-null float64\n",
      "product_b_total_value      4863 non-null float64\n",
      "product_c_total_value      3107 non-null object\n",
      "product_a_total_value      1457 non-null object\n",
      "dtypes: float64(4), int64(2), object(4)\n",
      "memory usage: 779.3+ KB\n"
     ]
    }
   ],
   "source": [
    "dfRaw.info()"
   ]
  },
  {
   "cell_type": "markdown",
   "metadata": {},
   "source": [
    "É interessante observar que existem 3973 clientes (de uma base de 9974 clientes, o que representa quase **40%** da base) que não temos dados sobre a primeira compra. Vamos investigar quem são esses clientes. "
   ]
  },
  {
   "cell_type": "code",
   "execution_count": 5,
   "metadata": {},
   "outputs": [
    {
     "data": {
      "text/html": [
       "<div>\n",
       "<style scoped>\n",
       "    .dataframe tbody tr th:only-of-type {\n",
       "        vertical-align: middle;\n",
       "    }\n",
       "\n",
       "    .dataframe tbody tr th {\n",
       "        vertical-align: top;\n",
       "    }\n",
       "\n",
       "    .dataframe thead th {\n",
       "        text-align: right;\n",
       "    }\n",
       "</style>\n",
       "<table border=\"1\" class=\"dataframe\">\n",
       "  <thead>\n",
       "    <tr style=\"text-align: right;\">\n",
       "      <th></th>\n",
       "      <th>id_cliente</th>\n",
       "      <th>age</th>\n",
       "      <th>state</th>\n",
       "      <th>first_purchased_product</th>\n",
       "      <th>product_b_total_qty</th>\n",
       "      <th>product_c_total_qty</th>\n",
       "      <th>product_a_total_qty</th>\n",
       "      <th>product_b_total_value</th>\n",
       "      <th>product_c_total_value</th>\n",
       "      <th>product_a_total_value</th>\n",
       "    </tr>\n",
       "  </thead>\n",
       "  <tbody>\n",
       "    <tr>\n",
       "      <th>0</th>\n",
       "      <td>1547896</td>\n",
       "      <td>55</td>\n",
       "      <td>MT</td>\n",
       "      <td>NaN</td>\n",
       "      <td>NaN</td>\n",
       "      <td>NaN</td>\n",
       "      <td>NaN</td>\n",
       "      <td>NaN</td>\n",
       "      <td>NaN</td>\n",
       "      <td>NaN</td>\n",
       "    </tr>\n",
       "    <tr>\n",
       "      <th>6</th>\n",
       "      <td>1547902</td>\n",
       "      <td>28</td>\n",
       "      <td>PE</td>\n",
       "      <td>NaN</td>\n",
       "      <td>NaN</td>\n",
       "      <td>NaN</td>\n",
       "      <td>NaN</td>\n",
       "      <td>NaN</td>\n",
       "      <td>NaN</td>\n",
       "      <td>NaN</td>\n",
       "    </tr>\n",
       "    <tr>\n",
       "      <th>8</th>\n",
       "      <td>1547904</td>\n",
       "      <td>26</td>\n",
       "      <td>MG</td>\n",
       "      <td>NaN</td>\n",
       "      <td>NaN</td>\n",
       "      <td>NaN</td>\n",
       "      <td>NaN</td>\n",
       "      <td>NaN</td>\n",
       "      <td>NaN</td>\n",
       "      <td>NaN</td>\n",
       "    </tr>\n",
       "    <tr>\n",
       "      <th>15</th>\n",
       "      <td>1547911</td>\n",
       "      <td>47</td>\n",
       "      <td>RJ</td>\n",
       "      <td>NaN</td>\n",
       "      <td>NaN</td>\n",
       "      <td>NaN</td>\n",
       "      <td>NaN</td>\n",
       "      <td>NaN</td>\n",
       "      <td>NaN</td>\n",
       "      <td>NaN</td>\n",
       "    </tr>\n",
       "    <tr>\n",
       "      <th>16</th>\n",
       "      <td>1547912</td>\n",
       "      <td>42</td>\n",
       "      <td>SP</td>\n",
       "      <td>NaN</td>\n",
       "      <td>NaN</td>\n",
       "      <td>NaN</td>\n",
       "      <td>NaN</td>\n",
       "      <td>NaN</td>\n",
       "      <td>NaN</td>\n",
       "      <td>NaN</td>\n",
       "    </tr>\n",
       "  </tbody>\n",
       "</table>\n",
       "</div>"
      ],
      "text/plain": [
       "    id_cliente  age state first_purchased_product  product_b_total_qty  \\\n",
       "0      1547896   55    MT                     NaN                  NaN   \n",
       "6      1547902   28    PE                     NaN                  NaN   \n",
       "8      1547904   26    MG                     NaN                  NaN   \n",
       "15     1547911   47    RJ                     NaN                  NaN   \n",
       "16     1547912   42    SP                     NaN                  NaN   \n",
       "\n",
       "    product_c_total_qty  product_a_total_qty  product_b_total_value  \\\n",
       "0                   NaN                  NaN                    NaN   \n",
       "6                   NaN                  NaN                    NaN   \n",
       "8                   NaN                  NaN                    NaN   \n",
       "15                  NaN                  NaN                    NaN   \n",
       "16                  NaN                  NaN                    NaN   \n",
       "\n",
       "   product_c_total_value product_a_total_value  \n",
       "0                    NaN                   NaN  \n",
       "6                    NaN                   NaN  \n",
       "8                    NaN                   NaN  \n",
       "15                   NaN                   NaN  \n",
       "16                   NaN                   NaN  "
      ]
     },
     "execution_count": 5,
     "metadata": {},
     "output_type": "execute_result"
    }
   ],
   "source": [
    "ghostCustomer = dfRaw[pd.isna(dfRaw[\"first_purchased_product\"]) == True]\n",
    "ghostCustomer.head()"
   ]
  },
  {
   "cell_type": "code",
   "execution_count": 6,
   "metadata": {},
   "outputs": [
    {
     "name": "stdout",
     "output_type": "stream",
     "text": [
      "<class 'pandas.core.frame.DataFrame'>\n",
      "Int64Index: 3973 entries, 0 to 9973\n",
      "Data columns (total 10 columns):\n",
      "id_cliente                 3973 non-null int64\n",
      "age                        3973 non-null int64\n",
      "state                      3961 non-null object\n",
      "first_purchased_product    0 non-null object\n",
      "product_b_total_qty        0 non-null float64\n",
      "product_c_total_qty        0 non-null float64\n",
      "product_a_total_qty        0 non-null float64\n",
      "product_b_total_value      0 non-null float64\n",
      "product_c_total_value      0 non-null object\n",
      "product_a_total_value      0 non-null object\n",
      "dtypes: float64(4), int64(2), object(4)\n",
      "memory usage: 341.4+ KB\n"
     ]
    }
   ],
   "source": [
    "ghostCustomer.info()"
   ]
  },
  {
   "cell_type": "markdown",
   "metadata": {},
   "source": [
    "A respeito dos clientes fantasmas, temos poucas informações. Para a grande maioria sabemos apenas a sua idade e estado de residência. Como estes clientes representam uma fatia considerável da base, vamos analisar essas duas características que temos sobre os mesmos."
   ]
  },
  {
   "cell_type": "markdown",
   "metadata": {},
   "source": [
    "## Faixa etária dos clientes\n",
    "\n",
    "Vamos criar uma função que determine qual a faixa etária de cada cliente seguindo a divisão realizada pelo [IBGE](https://www.ibge.gov.br/apps/populacao/projecao/) ."
   ]
  },
  {
   "cell_type": "code",
   "execution_count": 7,
   "metadata": {},
   "outputs": [
    {
     "name": "stdout",
     "output_type": "stream",
     "text": [
      "Cliente mais novo: 0\n",
      "Cliente mais velho: 58\n"
     ]
    }
   ],
   "source": [
    "minAge = ghostCustomer[\"age\"].min()\n",
    "maxAge = ghostCustomer[\"age\"].max()\n",
    "\n",
    "print(\"Cliente mais novo: \" + str(minAge))\n",
    "print(\"Cliente mais velho: \" + str(maxAge))"
   ]
  },
  {
   "cell_type": "markdown",
   "metadata": {},
   "source": [
    "Um problema que é possível de acontecer em bases de dados é a inconsistência dos dados. Podemos ver que o cliente mais novo possui idade 0. Como isso não faz sentindo para a empresa, vamos analisar a distribuição das idades através de um gráfico. "
   ]
  },
  {
   "cell_type": "code",
   "execution_count": 8,
   "metadata": {},
   "outputs": [
    {
     "data": {
      "image/png": "[encoded data removed]",
      "text/plain": [
       "<Figure size 864x432 with 1 Axes>"
      ]
     },
     "metadata": {},
     "output_type": "display_data"
    }
   ],
   "source": [
    "_ = plt.figure(figsize=(12, 6))\n",
    "_ = sns.countplot(x=\"age\", data=ghostCustomer,color='b', alpha=0.6)\n",
    "# _ = sns.distplot(a=ghostCustomer['age'], hist=False, rug=True);"
   ]
  },
  {
   "cell_type": "markdown",
   "metadata": {},
   "source": [
    "Como mencionado temos vários clientes com idade abaixo de 19 anos. Esses clientes iremos retirar da base pois iremos assumir que os dados estão inconsistentes."
   ]
  },
  {
   "cell_type": "code",
   "execution_count": 9,
   "metadata": {},
   "outputs": [
    {
     "data": {
      "text/html": [
       "<div>\n",
       "<style scoped>\n",
       "    .dataframe tbody tr th:only-of-type {\n",
       "        vertical-align: middle;\n",
       "    }\n",
       "\n",
       "    .dataframe tbody tr th {\n",
       "        vertical-align: top;\n",
       "    }\n",
       "\n",
       "    .dataframe thead th {\n",
       "        text-align: right;\n",
       "    }\n",
       "</style>\n",
       "<table border=\"1\" class=\"dataframe\">\n",
       "  <thead>\n",
       "    <tr style=\"text-align: right;\">\n",
       "      <th></th>\n",
       "      <th>id_cliente</th>\n",
       "      <th>age</th>\n",
       "      <th>state</th>\n",
       "    </tr>\n",
       "  </thead>\n",
       "  <tbody>\n",
       "    <tr>\n",
       "      <th>0</th>\n",
       "      <td>1547896</td>\n",
       "      <td>55</td>\n",
       "      <td>MT</td>\n",
       "    </tr>\n",
       "    <tr>\n",
       "      <th>6</th>\n",
       "      <td>1547902</td>\n",
       "      <td>28</td>\n",
       "      <td>PE</td>\n",
       "    </tr>\n",
       "    <tr>\n",
       "      <th>8</th>\n",
       "      <td>1547904</td>\n",
       "      <td>26</td>\n",
       "      <td>MG</td>\n",
       "    </tr>\n",
       "    <tr>\n",
       "      <th>15</th>\n",
       "      <td>1547911</td>\n",
       "      <td>47</td>\n",
       "      <td>RJ</td>\n",
       "    </tr>\n",
       "    <tr>\n",
       "      <th>16</th>\n",
       "      <td>1547912</td>\n",
       "      <td>42</td>\n",
       "      <td>SP</td>\n",
       "    </tr>\n",
       "  </tbody>\n",
       "</table>\n",
       "</div>"
      ],
      "text/plain": [
       "    id_cliente  age state\n",
       "0      1547896   55    MT\n",
       "6      1547902   28    PE\n",
       "8      1547904   26    MG\n",
       "15     1547911   47    RJ\n",
       "16     1547912   42    SP"
      ]
     },
     "execution_count": 9,
     "metadata": {},
     "output_type": "execute_result"
    }
   ],
   "source": [
    "ghostCustomerOfAge = ghostCustomer[ghostCustomer[\"age\"] >= 19][[\"id_cliente\", \"age\", \"state\"]]\n",
    "ghostCustomerOfAge.head()"
   ]
  },
  {
   "cell_type": "markdown",
   "metadata": {},
   "source": [
    "Vamos analisar uma rápida descrição da coluna 'age' dos clientes fantasmas. "
   ]
  },
  {
   "cell_type": "code",
   "execution_count": 10,
   "metadata": {},
   "outputs": [
    {
     "data": {
      "text/plain": [
       "count    3571.000000\n",
       "mean       36.439373\n",
       "std         7.967223\n",
       "min        19.000000\n",
       "25%        30.000000\n",
       "50%        36.000000\n",
       "75%        42.000000\n",
       "max        58.000000\n",
       "Name: age, dtype: float64"
      ]
     },
     "execution_count": 10,
     "metadata": {},
     "output_type": "execute_result"
    }
   ],
   "source": [
    "ghostCustomerOfAge[\"age\"].describe()"
   ]
  },
  {
   "cell_type": "code",
   "execution_count": 11,
   "metadata": {},
   "outputs": [
    {
     "name": "stdout",
     "output_type": "stream",
     "text": [
      "Coeficiente de variação: 21.86%\n"
     ]
    }
   ],
   "source": [
    "variationCoeficient = (ghostCustomerOfAge[\"age\"].std()/ghostCustomerOfAge[\"age\"].mean())*100\n",
    "print(\"Coeficiente de variação: {:.2f}%\".format(variationCoeficient))"
   ]
  },
  {
   "cell_type": "markdown",
   "metadata": {},
   "source": [
    "A idade média dos clientes é de 36 anos. O coeficiente de variação é de 21,86%, logo podemos considerar que a idade tem uma [variação média](https://mundoeducacao.bol.uol.com.br/matematica/coeficiente-variacao.htm). O 25° percentil é de 30 anos, ou seja, 25% dos clientes tem até 30 anos. E, analogamente, 75% dos clientes tem até 42 anos. "
   ]
  },
  {
   "cell_type": "markdown",
   "metadata": {},
   "source": [
    "Agora vamos segregar os clientes nas faixas etárias\n"
   ]
  },
  {
   "cell_type": "code",
   "execution_count": 12,
   "metadata": {},
   "outputs": [],
   "source": [
    "def ageRange(age):\n",
    "    minAge = 19\n",
    "    maxAge = minAge + 5\n",
    "    ageRangeClass = 1\n",
    "    while True:\n",
    "        if age >= minAge and age <= maxAge:\n",
    "            return str(minAge) + \"-\" + str(maxAge)\n",
    "        else:\n",
    "            ageRangeClass += 1\n",
    "            minAge = maxAge \n",
    "            maxAge = minAge + 5\n",
    "\n",
    "ghostCustomerOfAge[\"age_range\"] = ghostCustomerOfAge[\"age\"].apply(ageRange)"
   ]
  },
  {
   "cell_type": "code",
   "execution_count": 13,
   "metadata": {},
   "outputs": [
    {
     "data": {
      "image/png": "[encoded data removed]",
      "text/plain": [
       "<Figure size 864x432 with 1 Axes>"
      ]
     },
     "metadata": {},
     "output_type": "display_data"
    }
   ],
   "source": [
    "_ = plt.figure(figsize=(12, 6))\n",
    "_ = sns.countplot(x=\"age_range\", data=ghostCustomerOfAge, color='b', order=sorted(ghostCustomerOfAge[\"age_range\"].unique()), alpha=0.6)"
   ]
  },
  {
   "cell_type": "markdown",
   "metadata": {},
   "source": [
    "Como é possível observar no gráfico, boa parte dos clientes fantasmas tem entre 29 e 39 anos, sendo que os clientes de 29 a 34 anos são cerca de 800. "
   ]
  },
  {
   "cell_type": "markdown",
   "metadata": {},
   "source": [
    "## UF dos clientes fantasmas\n",
    "\n",
    "Vamos analisar as UF dos clientes fantasmas. Primeiro, vamos plotar um gráfico com a contagem de cada uma."
   ]
  },
  {
   "cell_type": "code",
   "execution_count": 14,
   "metadata": {},
   "outputs": [
    {
     "data": {
      "text/plain": [
       "<Figure size 1440x432 with 0 Axes>"
      ]
     },
     "execution_count": 14,
     "metadata": {},
     "output_type": "execute_result"
    },
    {
     "data": {
      "text/plain": [
       "<matplotlib.axes._subplots.AxesSubplot at 0x7f75b74f9518>"
      ]
     },
     "execution_count": 14,
     "metadata": {},
     "output_type": "execute_result"
    },
    {
     "data": {
      "image/png": "[encoded data removed]",
      "text/plain": [
       "<Figure size 1440x432 with 1 Axes>"
      ]
     },
     "metadata": {},
     "output_type": "display_data"
    }
   ],
   "source": [
    "plt.figure(figsize=(20, 6))\n",
    "sns.countplot(x=\"state\", data=ghostCustomerOfAge, color='b',alpha=0.6)"
   ]
  },
  {
   "cell_type": "markdown",
   "metadata": {},
   "source": [
    "Podemos ver que SP é o estado que possue mais clientes, seguido de MG, RJ e BA. Vamos ver quem são os 7 primeiros estados em números de clientes fantasmas"
   ]
  },
  {
   "cell_type": "code",
   "execution_count": 15,
   "metadata": {},
   "outputs": [
    {
     "data": {
      "text/plain": [
       "state\n",
       "SP    1265\n",
       "MG     317\n",
       "RJ     255\n",
       "BA     238\n",
       "CE     141\n",
       "PE     141\n",
       "PR     128\n",
       "Name: id_cliente, dtype: int64"
      ]
     },
     "execution_count": 15,
     "metadata": {},
     "output_type": "execute_result"
    }
   ],
   "source": [
    "stateCount = ghostCustomerOfAge.groupby('state').count()\n",
    "stateCount[\"id_cliente\"].sort_values(ascending=False)[:7]"
   ]
  },
  {
   "cell_type": "markdown",
   "metadata": {},
   "source": [
    "Depois da BA, ainda temos CE, PE e PR dentre os 7 primeiros estados em números de clientes fantasmas. "
   ]
  },
  {
   "cell_type": "markdown",
   "metadata": {},
   "source": [
    "Agora vamos ver a distribuição dos clientes fantasmas por regiao do país. "
   ]
  },
  {
   "cell_type": "code",
   "execution_count": 16,
   "metadata": {},
   "outputs": [],
   "source": [
    "regions = dict()\n",
    "\n",
    "regions[\"southeast\"] = [\"SP\", \"RJ\", \"MG\", \"ES\"]\n",
    "regions[\"south\"] = [\"RS\", \"SC\", \"PR\"]\n",
    "regions[\"nort\"] = [\"TO\", \"AC\", \"PA\", \"RO\", \"RR\", \"AP\" \"AM\"]\n",
    "regions[\"northeast\"] = [\"BA\", \"SE\", \"AL\", \"PB\", \"PE\", \"RN\", \"CE\", \"PI\", \"MA\"]\n",
    "regions[\"midwest\"] = [\"MT\", \"MS\", \"GO\", \"DF\"]"
   ]
  },
  {
   "cell_type": "code",
   "execution_count": 17,
   "metadata": {},
   "outputs": [],
   "source": [
    "def defineCountryRegion(state):\n",
    "    for reg in regions.keys():\n",
    "        if state in regions[reg]:\n",
    "            return reg\n",
    "    return np.nan\n",
    "\n",
    "        "
   ]
  },
  {
   "cell_type": "code",
   "execution_count": 18,
   "metadata": {},
   "outputs": [],
   "source": [
    "ghostCustomerOfAge[\"country_region\"] = ghostCustomerOfAge[\"state\"].apply(defineCountryRegion)"
   ]
  },
  {
   "cell_type": "code",
   "execution_count": 19,
   "metadata": {},
   "outputs": [
    {
     "data": {
      "image/png": "[encoded data removed]",
      "text/plain": [
       "<Figure size 1440x432 with 1 Axes>"
      ]
     },
     "metadata": {},
     "output_type": "display_data"
    }
   ],
   "source": [
    "_ = plt.figure(figsize=(20, 6))\n",
    "_ = sns.countplot(x=\"country_region\", data=ghostCustomerOfAge, color='b',alpha=0.6)"
   ]
  },
  {
   "cell_type": "markdown",
   "metadata": {},
   "source": [
    "A região com mais clientes é a sudeste, logo em seguida do nordeste. Agora vamos analisar como as duas faixas etárias mais recorrentes se distribuem nas regiões do país. Isso poderá nos gerar insights sobre alguma ação a ser tomada a fim de engajar estes clientes fantasmas. "
   ]
  },
  {
   "cell_type": "code",
   "execution_count": 20,
   "metadata": {},
   "outputs": [],
   "source": [
    "# Iremos montar uma lista com os indices dos clientes das faixas etárias mais frequentes\n",
    "topTwoAgeRangeIndex = ghostCustomerOfAge.loc[(ghostCustomerOfAge[\"age_range\"] == '29-34') | (ghostCustomerOfAge[\"age_range\"] == '34-35'), ].index"
   ]
  },
  {
   "cell_type": "code",
   "execution_count": 21,
   "metadata": {},
   "outputs": [
    {
     "data": {
      "image/png": "[encoded data removed]",
      "text/plain": [
       "<Figure size 1440x432 with 1 Axes>"
      ]
     },
     "metadata": {},
     "output_type": "display_data"
    }
   ],
   "source": [
    "_ = plt.figure(figsize=(20, 6))\n",
    "_ = sns.countplot(x=\"country_region\", data=ghostCustomerOfAge.loc[topTwoAgeRangeIndex], color='b',alpha=0.6)\n"
   ]
  },
  {
   "cell_type": "markdown",
   "metadata": {},
   "source": [
    "Seguindo a distribuição principal, os clientes fantasmas entre as idades de 29 a 35 anos estão mais presentes no Sudeste e Nordeste. Sendo assim, alguma campanha de marketing pode ser realizada focando estes públicos, incentivando-os a realizarem a primeira compra na empresa. \n",
    "\n",
    "---"
   ]
  },
  {
   "cell_type": "markdown",
   "metadata": {},
   "source": [
    "## Clientes ativos\n",
    "\n",
    "Agora vamos olhar para os clientes que realizaram ao menos uma compra. Vamos realizar a mesma análise feita para os clientes fantasmas. "
   ]
  },
  {
   "cell_type": "code",
   "execution_count": 22,
   "metadata": {},
   "outputs": [
    {
     "data": {
      "text/html": [
       "<div>\n",
       "<style scoped>\n",
       "    .dataframe tbody tr th:only-of-type {\n",
       "        vertical-align: middle;\n",
       "    }\n",
       "\n",
       "    .dataframe tbody tr th {\n",
       "        vertical-align: top;\n",
       "    }\n",
       "\n",
       "    .dataframe thead th {\n",
       "        text-align: right;\n",
       "    }\n",
       "</style>\n",
       "<table border=\"1\" class=\"dataframe\">\n",
       "  <thead>\n",
       "    <tr style=\"text-align: right;\">\n",
       "      <th></th>\n",
       "      <th>id_cliente</th>\n",
       "      <th>age</th>\n",
       "      <th>state</th>\n",
       "      <th>first_purchased_product</th>\n",
       "      <th>product_b_total_qty</th>\n",
       "      <th>product_c_total_qty</th>\n",
       "      <th>product_a_total_qty</th>\n",
       "      <th>product_b_total_value</th>\n",
       "      <th>product_c_total_value</th>\n",
       "      <th>product_a_total_value</th>\n",
       "    </tr>\n",
       "  </thead>\n",
       "  <tbody>\n",
       "    <tr>\n",
       "      <th>1</th>\n",
       "      <td>1547897</td>\n",
       "      <td>28</td>\n",
       "      <td>AL</td>\n",
       "      <td>a</td>\n",
       "      <td>NaN</td>\n",
       "      <td>NaN</td>\n",
       "      <td>9.0</td>\n",
       "      <td>NaN</td>\n",
       "      <td>NaN</td>\n",
       "      <td>144</td>\n",
       "    </tr>\n",
       "    <tr>\n",
       "      <th>2</th>\n",
       "      <td>1547898</td>\n",
       "      <td>45</td>\n",
       "      <td>SE</td>\n",
       "      <td>a</td>\n",
       "      <td>8.0</td>\n",
       "      <td>3.0</td>\n",
       "      <td>1.0</td>\n",
       "      <td>203.0</td>\n",
       "      <td>333,18</td>\n",
       "      <td>20</td>\n",
       "    </tr>\n",
       "    <tr>\n",
       "      <th>3</th>\n",
       "      <td>1547899</td>\n",
       "      <td>47</td>\n",
       "      <td>PE</td>\n",
       "      <td>a</td>\n",
       "      <td>4.0</td>\n",
       "      <td>NaN</td>\n",
       "      <td>5.0</td>\n",
       "      <td>136.0</td>\n",
       "      <td>NaN</td>\n",
       "      <td>7</td>\n",
       "    </tr>\n",
       "    <tr>\n",
       "      <th>4</th>\n",
       "      <td>1547900</td>\n",
       "      <td>32</td>\n",
       "      <td>SP</td>\n",
       "      <td>b</td>\n",
       "      <td>9.0</td>\n",
       "      <td>12.0</td>\n",
       "      <td>NaN</td>\n",
       "      <td>8.0</td>\n",
       "      <td>0</td>\n",
       "      <td>NaN</td>\n",
       "    </tr>\n",
       "    <tr>\n",
       "      <th>5</th>\n",
       "      <td>1547901</td>\n",
       "      <td>42</td>\n",
       "      <td>MG</td>\n",
       "      <td>b</td>\n",
       "      <td>19.0</td>\n",
       "      <td>NaN</td>\n",
       "      <td>NaN</td>\n",
       "      <td>24.0</td>\n",
       "      <td>NaN</td>\n",
       "      <td>NaN</td>\n",
       "    </tr>\n",
       "  </tbody>\n",
       "</table>\n",
       "</div>"
      ],
      "text/plain": [
       "   id_cliente  age state first_purchased_product  product_b_total_qty  \\\n",
       "1     1547897   28    AL                       a                  NaN   \n",
       "2     1547898   45    SE                       a                  8.0   \n",
       "3     1547899   47    PE                       a                  4.0   \n",
       "4     1547900   32    SP                       b                  9.0   \n",
       "5     1547901   42    MG                       b                 19.0   \n",
       "\n",
       "   product_c_total_qty  product_a_total_qty  product_b_total_value  \\\n",
       "1                  NaN                  9.0                    NaN   \n",
       "2                  3.0                  1.0                  203.0   \n",
       "3                  NaN                  5.0                  136.0   \n",
       "4                 12.0                  NaN                    8.0   \n",
       "5                  NaN                  NaN                   24.0   \n",
       "\n",
       "  product_c_total_value product_a_total_value  \n",
       "1                   NaN                   144  \n",
       "2                333,18                    20  \n",
       "3                   NaN                     7  \n",
       "4                     0                   NaN  \n",
       "5                   NaN                   NaN  "
      ]
     },
     "execution_count": 22,
     "metadata": {},
     "output_type": "execute_result"
    }
   ],
   "source": [
    "activeCustomer = dfRaw[pd.isna(dfRaw[\"first_purchased_product\"]) != True]\n",
    "activeCustomer.head()"
   ]
  },
  {
   "cell_type": "code",
   "execution_count": 23,
   "metadata": {},
   "outputs": [
    {
     "name": "stdout",
     "output_type": "stream",
     "text": [
      "<class 'pandas.core.frame.DataFrame'>\n",
      "Int64Index: 6001 entries, 1 to 9972\n",
      "Data columns (total 10 columns):\n",
      "id_cliente                 6001 non-null int64\n",
      "age                        6001 non-null int64\n",
      "state                      6001 non-null object\n",
      "first_purchased_product    6001 non-null object\n",
      "product_b_total_qty        4863 non-null float64\n",
      "product_c_total_qty        3107 non-null float64\n",
      "product_a_total_qty        1457 non-null float64\n",
      "product_b_total_value      4863 non-null float64\n",
      "product_c_total_value      3107 non-null object\n",
      "product_a_total_value      1457 non-null object\n",
      "dtypes: float64(4), int64(2), object(4)\n",
      "memory usage: 515.7+ KB\n"
     ]
    }
   ],
   "source": [
    "activeCustomer.info()"
   ]
  },
  {
   "cell_type": "markdown",
   "metadata": {},
   "source": [
    "## Faixa etária dos clientes ativos\n",
    "\n",
    "Vamos aproveitar a funcao ageRange() para aplicar aos dados dos clientes ativos e determinar a faixa etária de cada um deles"
   ]
  },
  {
   "cell_type": "code",
   "execution_count": 24,
   "metadata": {},
   "outputs": [
    {
     "name": "stdout",
     "output_type": "stream",
     "text": [
      "Cliente mais novo: 0\n",
      "Cliente mais velho: 59\n"
     ]
    }
   ],
   "source": [
    "minAge = activeCustomer[\"age\"].min()\n",
    "maxAge = activeCustomer[\"age\"].max()\n",
    "\n",
    "print(\"Cliente mais novo: \" + str(minAge))\n",
    "print(\"Cliente mais velho: \" + str(maxAge))"
   ]
  },
  {
   "cell_type": "markdown",
   "metadata": {},
   "source": [
    "Novamente o problema de inconsistência dos dados aconteceu aqui. Podemos ver que o cliente mais novo possui idade 0. Como isso não faz sentindo para a empresa, vamos analisar a distribuição das idades através de um gráfico. "
   ]
  },
  {
   "cell_type": "code",
   "execution_count": 25,
   "metadata": {},
   "outputs": [
    {
     "data": {
      "image/png": "[encoded data removed]",
      "text/plain": [
       "<Figure size 864x432 with 1 Axes>"
      ]
     },
     "metadata": {},
     "output_type": "display_data"
    }
   ],
   "source": [
    "_ = plt.figure(figsize=(12, 6))\n",
    "_ = sns.countplot(x=\"age\", data=activeCustomer,color='b', alpha=0.6)\n",
    "# _ = sns.distplot(a=ghostCustomer['age'], hist=False, rug=True);"
   ]
  },
  {
   "cell_type": "code",
   "execution_count": 26,
   "metadata": {},
   "outputs": [
    {
     "data": {
      "text/html": [
       "<div>\n",
       "<style scoped>\n",
       "    .dataframe tbody tr th:only-of-type {\n",
       "        vertical-align: middle;\n",
       "    }\n",
       "\n",
       "    .dataframe tbody tr th {\n",
       "        vertical-align: top;\n",
       "    }\n",
       "\n",
       "    .dataframe thead th {\n",
       "        text-align: right;\n",
       "    }\n",
       "</style>\n",
       "<table border=\"1\" class=\"dataframe\">\n",
       "  <thead>\n",
       "    <tr style=\"text-align: right;\">\n",
       "      <th></th>\n",
       "      <th>id_cliente</th>\n",
       "      <th>age</th>\n",
       "      <th>state</th>\n",
       "      <th>first_purchased_product</th>\n",
       "      <th>product_b_total_qty</th>\n",
       "      <th>product_c_total_qty</th>\n",
       "      <th>product_a_total_qty</th>\n",
       "      <th>product_b_total_value</th>\n",
       "      <th>product_c_total_value</th>\n",
       "      <th>product_a_total_value</th>\n",
       "    </tr>\n",
       "  </thead>\n",
       "  <tbody>\n",
       "    <tr>\n",
       "      <th>1</th>\n",
       "      <td>1547897</td>\n",
       "      <td>28</td>\n",
       "      <td>AL</td>\n",
       "      <td>a</td>\n",
       "      <td>NaN</td>\n",
       "      <td>NaN</td>\n",
       "      <td>9.0</td>\n",
       "      <td>NaN</td>\n",
       "      <td>NaN</td>\n",
       "      <td>144</td>\n",
       "    </tr>\n",
       "    <tr>\n",
       "      <th>2</th>\n",
       "      <td>1547898</td>\n",
       "      <td>45</td>\n",
       "      <td>SE</td>\n",
       "      <td>a</td>\n",
       "      <td>8.0</td>\n",
       "      <td>3.0</td>\n",
       "      <td>1.0</td>\n",
       "      <td>203.0</td>\n",
       "      <td>333,18</td>\n",
       "      <td>20</td>\n",
       "    </tr>\n",
       "    <tr>\n",
       "      <th>3</th>\n",
       "      <td>1547899</td>\n",
       "      <td>47</td>\n",
       "      <td>PE</td>\n",
       "      <td>a</td>\n",
       "      <td>4.0</td>\n",
       "      <td>NaN</td>\n",
       "      <td>5.0</td>\n",
       "      <td>136.0</td>\n",
       "      <td>NaN</td>\n",
       "      <td>7</td>\n",
       "    </tr>\n",
       "    <tr>\n",
       "      <th>4</th>\n",
       "      <td>1547900</td>\n",
       "      <td>32</td>\n",
       "      <td>SP</td>\n",
       "      <td>b</td>\n",
       "      <td>9.0</td>\n",
       "      <td>12.0</td>\n",
       "      <td>NaN</td>\n",
       "      <td>8.0</td>\n",
       "      <td>0</td>\n",
       "      <td>NaN</td>\n",
       "    </tr>\n",
       "    <tr>\n",
       "      <th>5</th>\n",
       "      <td>1547901</td>\n",
       "      <td>42</td>\n",
       "      <td>MG</td>\n",
       "      <td>b</td>\n",
       "      <td>19.0</td>\n",
       "      <td>NaN</td>\n",
       "      <td>NaN</td>\n",
       "      <td>24.0</td>\n",
       "      <td>NaN</td>\n",
       "      <td>NaN</td>\n",
       "    </tr>\n",
       "  </tbody>\n",
       "</table>\n",
       "</div>"
      ],
      "text/plain": [
       "   id_cliente  age state first_purchased_product  product_b_total_qty  \\\n",
       "1     1547897   28    AL                       a                  NaN   \n",
       "2     1547898   45    SE                       a                  8.0   \n",
       "3     1547899   47    PE                       a                  4.0   \n",
       "4     1547900   32    SP                       b                  9.0   \n",
       "5     1547901   42    MG                       b                 19.0   \n",
       "\n",
       "   product_c_total_qty  product_a_total_qty  product_b_total_value  \\\n",
       "1                  NaN                  9.0                    NaN   \n",
       "2                  3.0                  1.0                  203.0   \n",
       "3                  NaN                  5.0                  136.0   \n",
       "4                 12.0                  NaN                    8.0   \n",
       "5                  NaN                  NaN                   24.0   \n",
       "\n",
       "  product_c_total_value product_a_total_value  \n",
       "1                   NaN                   144  \n",
       "2                333,18                    20  \n",
       "3                   NaN                     7  \n",
       "4                     0                   NaN  \n",
       "5                   NaN                   NaN  "
      ]
     },
     "execution_count": 26,
     "metadata": {},
     "output_type": "execute_result"
    }
   ],
   "source": [
    "activeCustomerOfAge = activeCustomer[activeCustomer[\"age\"] >= 19]\n",
    "activeCustomerOfAge.head()"
   ]
  },
  {
   "cell_type": "markdown",
   "metadata": {},
   "source": [
    "Vamos analisar uma rápida descrição da coluna 'age' dos clientes ativos. "
   ]
  },
  {
   "cell_type": "code",
   "execution_count": 27,
   "metadata": {},
   "outputs": [
    {
     "data": {
      "text/plain": [
       "count    5434.000000\n",
       "mean       36.832904\n",
       "std         8.084432\n",
       "min        19.000000\n",
       "25%        31.000000\n",
       "50%        36.000000\n",
       "75%        43.000000\n",
       "max        59.000000\n",
       "Name: age, dtype: float64"
      ]
     },
     "execution_count": 27,
     "metadata": {},
     "output_type": "execute_result"
    }
   ],
   "source": [
    "activeCustomerOfAge[\"age\"].describe()"
   ]
  },
  {
   "cell_type": "code",
   "execution_count": 28,
   "metadata": {},
   "outputs": [
    {
     "name": "stdout",
     "output_type": "stream",
     "text": [
      "Coeficiente de variação: 21.95%\n"
     ]
    }
   ],
   "source": [
    "variationCoeficient = (activeCustomerOfAge[\"age\"].std()/activeCustomerOfAge[\"age\"].mean())*100\n",
    "print(\"Coeficiente de variação: {:.2f}%\".format(variationCoeficient))"
   ]
  },
  {
   "cell_type": "markdown",
   "metadata": {},
   "source": [
    "A idade média dos clientes é de 36 anos. O coeficiente de variação é de 21,95%, logo podemos considerar que a idade tem uma [variação média](https://mundoeducacao.bol.uol.com.br/matematica/coeficiente-variacao.htm). O 25° percentil é de 31 anos, ou seja, 25% dos clientes tem até 31 anos. E, analogamente, 75% dos clientes tem até 43 anos. "
   ]
  },
  {
   "cell_type": "code",
   "execution_count": 29,
   "metadata": {},
   "outputs": [
    {
     "name": "stderr",
     "output_type": "stream",
     "text": [
      "/home/victor/anaconda3/lib/python3.6/site-packages/ipykernel_launcher.py:1: SettingWithCopyWarning: \n",
      "A value is trying to be set on a copy of a slice from a DataFrame.\n",
      "Try using .loc[row_indexer,col_indexer] = value instead\n",
      "\n",
      "See the caveats in the documentation: http://pandas.pydata.org/pandas-docs/stable/indexing.html#indexing-view-versus-copy\n",
      "  \"\"\"Entry point for launching an IPython kernel.\n"
     ]
    },
    {
     "data": {
      "image/png": "[encoded data removed]",
      "text/plain": [
       "<Figure size 864x432 with 1 Axes>"
      ]
     },
     "metadata": {},
     "output_type": "display_data"
    }
   ],
   "source": [
    "activeCustomerOfAge[\"age_range\"] = activeCustomerOfAge[\"age\"].apply(ageRange)\n",
    "_ = plt.figure(figsize=(12, 6))\n",
    "_ = sns.countplot(x=\"age_range\", data=activeCustomerOfAge, color='b', order=sorted(activeCustomerOfAge[\"age_range\"].unique()), alpha=0.6)"
   ]
  },
  {
   "cell_type": "markdown",
   "metadata": {},
   "source": [
    "## UF dos clientes ativos\n",
    "\n",
    "Vamos analisar as UF dos clientes ativos. Primeiro, vamos plotar um gráfico com a contagem de cada uma."
   ]
  },
  {
   "cell_type": "code",
   "execution_count": 30,
   "metadata": {},
   "outputs": [
    {
     "data": {
      "image/png": "[encoded data removed]",
      "text/plain": [
       "<Figure size 1440x432 with 1 Axes>"
      ]
     },
     "metadata": {},
     "output_type": "display_data"
    }
   ],
   "source": [
    "_ = plt.figure(figsize=(20, 6))\n",
    "_ = sns.countplot(x=\"state\", data=activeCustomerOfAge, color='b',alpha=0.6)"
   ]
  },
  {
   "cell_type": "markdown",
   "metadata": {},
   "source": [
    "Novamente, SP é o estado que mais se destaca em números de clientes, seguido por BA e MG. Novamente, vamos ve quem são os 7 primeiros estados em números de clientes. "
   ]
  },
  {
   "cell_type": "code",
   "execution_count": 31,
   "metadata": {},
   "outputs": [
    {
     "data": {
      "text/plain": [
       "state\n",
       "SP    1808\n",
       "BA     479\n",
       "MG     469\n",
       "RJ     411\n",
       "CE     217\n",
       "GO     209\n",
       "PE     197\n",
       "Name: id_cliente, dtype: int64"
      ]
     },
     "execution_count": 31,
     "metadata": {},
     "output_type": "execute_result"
    }
   ],
   "source": [
    "stateCount = activeCustomerOfAge.groupby('state').count()\n",
    "stateCount[\"id_cliente\"].sort_values(ascending=False)[:7]"
   ]
  },
  {
   "cell_type": "markdown",
   "metadata": {},
   "source": [
    "Agora vamos ver a distribuição dos clientes fantasmas por regiao do país. "
   ]
  },
  {
   "cell_type": "code",
   "execution_count": 32,
   "metadata": {},
   "outputs": [
    {
     "name": "stderr",
     "output_type": "stream",
     "text": [
      "/home/victor/anaconda3/lib/python3.6/site-packages/ipykernel_launcher.py:1: SettingWithCopyWarning: \n",
      "A value is trying to be set on a copy of a slice from a DataFrame.\n",
      "Try using .loc[row_indexer,col_indexer] = value instead\n",
      "\n",
      "See the caveats in the documentation: http://pandas.pydata.org/pandas-docs/stable/indexing.html#indexing-view-versus-copy\n",
      "  \"\"\"Entry point for launching an IPython kernel.\n"
     ]
    }
   ],
   "source": [
    "activeCustomerOfAge[\"country_region\"] = activeCustomerOfAge[\"state\"].apply(defineCountryRegion)"
   ]
  },
  {
   "cell_type": "code",
   "execution_count": 33,
   "metadata": {},
   "outputs": [
    {
     "data": {
      "image/png": "[encoded data removed]",
      "text/plain": [
       "<Figure size 1440x432 with 1 Axes>"
      ]
     },
     "metadata": {},
     "output_type": "display_data"
    }
   ],
   "source": [
    "_ = plt.figure(figsize=(20, 6))\n",
    "_ = sns.countplot(x=\"country_region\", data=activeCustomerOfAge, color='b',alpha=0.6)"
   ]
  },
  {
   "cell_type": "markdown",
   "metadata": {},
   "source": [
    "A região com mais clientes é a sudeste, logo em seguida do nordeste. Agora vamos analisar como as duas faixas etárias mais recorrentes se distribuem nas regiões do país. Isso poderá nos gerar insights sobre alguma ação a ser tomada para melhorar o relacionamento com os clientes. "
   ]
  },
  {
   "cell_type": "code",
   "execution_count": 34,
   "metadata": {},
   "outputs": [],
   "source": [
    "# Iremos montar uma lista com os indices dos clientes das faixas etárias mais frequentes\n",
    "topTwoAgeRangeIndex = activeCustomerOfAge.loc[(activeCustomerOfAge[\"age_range\"] == '29-34') | (activeCustomerOfAge[\"age_range\"] == '34-35'), ].index"
   ]
  },
  {
   "cell_type": "code",
   "execution_count": 35,
   "metadata": {},
   "outputs": [
    {
     "data": {
      "image/png": "[encoded data removed]",
      "text/plain": [
       "<Figure size 1440x432 with 1 Axes>"
      ]
     },
     "metadata": {},
     "output_type": "display_data"
    }
   ],
   "source": [
    "_ = plt.figure(figsize=(20, 6))\n",
    "_ = sns.countplot(x=\"country_region\", data=activeCustomerOfAge.loc[topTwoAgeRangeIndex], color='b',alpha=0.6)\n"
   ]
  },
  {
   "cell_type": "markdown",
   "metadata": {},
   "source": [
    "Seguindo a distribuição principal, os clientes ativos entre as idades de 29 a 35 anos estão mais presentes no Sudeste e Nordeste. Sendo assim, alguma campanha de marketing pode ser realizada focando estes públicos. "
   ]
  },
  {
   "cell_type": "markdown",
   "metadata": {},
   "source": [
    "## Primeira compra\n",
    "\n",
    "Vamos analisar como foram as primeiras compras dos clientes. Primeiro, vamos ver a frequencia de compra de cada produto. "
   ]
  },
  {
   "cell_type": "code",
   "execution_count": 36,
   "metadata": {},
   "outputs": [
    {
     "data": {
      "image/png": "[encoded data removed]",
      "text/plain": [
       "<Figure size 864x432 with 1 Axes>"
      ]
     },
     "metadata": {},
     "output_type": "display_data"
    }
   ],
   "source": [
    "_ = plt.figure(figsize=(12, 6))\n",
    "_ = sns.countplot(x=\"first_purchased_product\", data=activeCustomerOfAge.loc[topTwoAgeRangeIndex], color='b',alpha=0.6)\n"
   ]
  },
  {
   "cell_type": "markdown",
   "metadata": {},
   "source": [
    "Os clientes no geral tenderam a comprar o produto b em sua primeira compra na loja. Vamos analisar a primeira compra por faixa etária. "
   ]
  },
  {
   "cell_type": "code",
   "execution_count": 42,
   "metadata": {},
   "outputs": [
    {
     "data": {
      "image/png": "[encoded data removed]",
      "text/plain": [
       "<Figure size 864x432 with 1 Axes>"
      ]
     },
     "metadata": {},
     "output_type": "display_data"
    }
   ],
   "source": [
    "_ = plt.figure(figsize=(12, 6))\n",
    "_ = sns.countplot(x=\"first_purchased_product\", \n",
    "                  data=activeCustomerOfAge, \n",
    "                  hue=\"age_range\", alpha=0.6)"
   ]
  },
  {
   "cell_type": "markdown",
   "metadata": {},
   "source": [
    "Para o produto b, quem mais comprou na primeira compra foram pessoas entre 34 a 39 anos, que é a faixa etária mais frequente na base de dados. Vale observar também que pessoas de 54 a 58 anos também compraram o produto b de forma considerável (mais de 400 vezes). "
   ]
  },
  {
   "cell_type": "code",
   "execution_count": null,
   "metadata": {},
   "outputs": [],
   "source": []
  }
 ],
 "metadata": {
  "kernelspec": {
   "display_name": "Python 3",
   "language": "python",
   "name": "python3"
  },
  "language_info": {
   "codemirror_mode": {
    "name": "ipython",
    "version": 3
   },
   "file_extension": ".py",
   "mimetype": "text/x-python",
   "name": "python",
   "nbconvert_exporter": "python",
   "pygments_lexer": "ipython3",
   "version": "3.6.8"
  }
 },
 "nbformat": 4,
 "nbformat_minor": 2
}
